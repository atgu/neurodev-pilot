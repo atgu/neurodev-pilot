{
 "cells": [
  {
   "cell_type": "code",
   "execution_count": null,
   "id": "ea5b3162",
   "metadata": {},
   "outputs": [],
   "source": [
    "#Note: this code is also found in trio_pilot_pca; it is documented here to describe how the mt ref file was created"
   ]
  },
  {
   "cell_type": "code",
   "execution_count": null,
   "id": "ca4601ca",
   "metadata": {},
   "outputs": [],
   "source": [
    "import hail as hl\n",
    "import gwaspy.pca as pca\n",
    "\n",
    "hl.init()"
   ]
  },
  {
   "cell_type": "code",
   "execution_count": null,
   "id": "1d165211",
   "metadata": {},
   "outputs": [],
   "source": [
    "#create AGVP reference data\n",
    "agvp = hl.import_plink(bed='gs://nd_popgen/agvp/AGVP.postQC.autosomes.bed',\n",
    "                     bim='gs://nd_popgen/agvp/AGVP.postQC.autosomes.bim',\n",
    "                    fam='gs://nd_popgen/agvp/AGVP.postQC.autosomes.fam',\n",
    "                     reference_genome='GRCh37')"
   ]
  },
  {
   "cell_type": "code",
   "execution_count": null,
   "id": "2aa41c63",
   "metadata": {},
   "outputs": [],
   "source": [
    "#liftover to grch38: create coordinates from 37:38\n",
    "rg37 = hl.get_reference('GRCh37')  \n",
    "rg38 = hl.get_reference('GRCh38')  \n",
    "rg37.add_liftover('gs://hail-common/references/grch37_to_grch38.over.chain.gz', rg38)  "
   ]
  },
  {
   "cell_type": "code",
   "execution_count": null,
   "id": "5e1d092a",
   "metadata": {},
   "outputs": [],
   "source": [
    "agvp.show()"
   ]
  },
  {
   "cell_type": "code",
   "execution_count": null,
   "id": "2cf694cb",
   "metadata": {},
   "outputs": [],
   "source": [
    "agvp = agvp.annotate_rows(new_locus=hl.liftover(agvp.locus, 'GRCh38', include_strand=True),\n",
    "                 old_locus=agvp.locus)  \n",
    "agvp = agvp.filter_rows(hl.is_defined(agvp.new_locus) & ~agvp.new_locus.is_negative_strand)  \n",
    "agvp = agvp.key_rows_by(locus=agvp.new_locus.result, alleles = agvp.alleles)  "
   ]
  },
  {
   "cell_type": "code",
   "execution_count": null,
   "id": "12433b1c",
   "metadata": {},
   "outputs": [],
   "source": [
    "#save the agvp file\n",
    "agvp.write('gs://nd_popgen/agvp/agvp_grch38_final.mt')"
   ]
  },
  {
   "cell_type": "code",
   "execution_count": null,
   "id": "ef001720",
   "metadata": {},
   "outputs": [],
   "source": [
    "#also save plink versions of agvp grch38 file\n",
    "agvp = hl.read_matrix_table('gs://nd_popgen/agvp/agvp_grch38_final.mt')\n",
    "hl.export_plink(agvp, 'gs://nd_popgen/agvp/agvp_grch38_plink', ind_id = agvp.s)"
   ]
  }
 ],
 "metadata": {
  "kernelspec": {
   "display_name": "Hail",
   "language": "python",
   "name": "hail"
  },
  "language_info": {
   "codemirror_mode": {
    "name": "ipython",
    "version": 3
   },
   "file_extension": ".py",
   "mimetype": "text/x-python",
   "name": "python",
   "nbconvert_exporter": "python",
   "pygments_lexer": "ipython3",
   "version": "3.8.13"
  }
 },
 "nbformat": 4,
 "nbformat_minor": 5
}